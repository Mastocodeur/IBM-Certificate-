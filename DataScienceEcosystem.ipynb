{
 "cells": [
  {
   "cell_type": "markdown",
   "id": "35875ab2",
   "metadata": {},
   "source": [
    "# Data Science Tools and Ecosystem"
   ]
  },
  {
   "cell_type": "markdown",
   "id": "8c42dbed",
   "metadata": {},
   "source": [
    "In this notebook, Data Science Tools and Ecosystem are summarized."
   ]
  },
  {
   "cell_type": "markdown",
   "id": "54dbdade",
   "metadata": {},
   "source": [
    "Some of the popular languages that Data Scientists use are : "
   ]
  },
  {
   "cell_type": "markdown",
   "id": "d375592d",
   "metadata": {},
   "source": [
    "- 1) Python\n",
    "- 2) C++\n",
    "- 3) Java\n",
    "- 4) R \n",
    "- 5) SQL\n",
    "- 6) Julia\n",
    "- 7) MATLAB\n",
    "- 8) Scala"
   ]
  },
  {
   "cell_type": "markdown",
   "id": "98c5763e",
   "metadata": {},
   "source": [
    "Some of the commonly used libraries used by Data Scientists include :"
   ]
  },
  {
   "cell_type": "markdown",
   "id": "49a6d59a",
   "metadata": {},
   "source": [
    "1. Numpy\n",
    "2. Matplotlib\n",
    "3. Pandas\n",
    "4. Seaborn\n",
    "5. scikit-learn"
   ]
  },
  {
   "cell_type": "markdown",
   "id": "f110af09",
   "metadata": {},
   "source": [
    "| Data Science Tools |\n",
    "|-------------------|\n",
    "| Jupyter Notebook            |\n",
    "| RStudio            |\n",
    "| Apache Spark            |\n"
   ]
  },
  {
   "cell_type": "markdown",
   "id": "3c812e0a",
   "metadata": {},
   "source": [
    "### Below are a few examples of evaluating arithmetic expressions in Python."
   ]
  },
  {
   "cell_type": "code",
   "execution_count": 3,
   "id": "92b72300",
   "metadata": {},
   "outputs": [
    {
     "name": "stdout",
     "output_type": "stream",
     "text": [
      "17\n"
     ]
    }
   ],
   "source": [
    "# This is a simple arithmetic expression to multiply then add integers\n",
    "# The expression returns 17, the expected output\n",
    "print((3*4)+5)"
   ]
  },
  {
   "cell_type": "code",
   "execution_count": 9,
   "id": "db648dcf",
   "metadata": {},
   "outputs": [
    {
     "name": "stdout",
     "output_type": "stream",
     "text": [
      "200 minutes equals to 3 hours and 20 minutes.\n",
      "But you can say 200 minutes, it's 3.3333333333333335 hours.\n"
     ]
    }
   ],
   "source": [
    "# This will convert 200 minutes to hours by diving by 60\n",
    "minutes = 200 \n",
    "hours = minutes//60\n",
    "print(\"200 minutes equals to\",hours, \"hours and\", minutes%60, \"minutes.\")\n",
    "print(\"But you can say 200 minutes, it's\", minutes/60, \"hours.\")"
   ]
  },
  {
   "cell_type": "markdown",
   "id": "c1fafb62",
   "metadata": {},
   "source": [
    "**Objectives:**\n",
    "\n",
    "- List data science languages\n",
    "- List data science libraries\n",
    "- Introduce code in python in differents cells"
   ]
  },
  {
   "cell_type": "markdown",
   "id": "29140ee9",
   "metadata": {},
   "source": [
    "## Author\n",
    "\n",
    "Rémy Gasmi"
   ]
  },
  {
   "cell_type": "code",
   "execution_count": null,
   "id": "4a906630",
   "metadata": {},
   "outputs": [],
   "source": []
  }
 ],
 "metadata": {
  "kernelspec": {
   "display_name": "Python 3 (ipykernel)",
   "language": "python",
   "name": "python3"
  },
  "language_info": {
   "codemirror_mode": {
    "name": "ipython",
    "version": 3
   },
   "file_extension": ".py",
   "mimetype": "text/x-python",
   "name": "python",
   "nbconvert_exporter": "python",
   "pygments_lexer": "ipython3",
   "version": "3.9.16"
  }
 },
 "nbformat": 4,
 "nbformat_minor": 5
}
